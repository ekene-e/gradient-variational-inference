{
 "cells": [
  {
   "cell_type": "markdown",
   "id": "6d59383c",
   "metadata": {},
   "source": [
    "# Imports Packages and Set Defaults"
   ]
  },
  {
   "cell_type": "code",
   "execution_count": 1,
   "id": "5ed462e9",
   "metadata": {},
   "outputs": [],
   "source": [
    "from pandas_plink import read_plink\n",
    "from scipy.special import softmax\n",
    "import pandas as pd\n",
    "import numpy as np\n",
    "from numpy.random import default_rng"
   ]
  },
  {
   "cell_type": "code",
   "execution_count": 2,
   "id": "3a88f143",
   "metadata": {},
   "outputs": [],
   "source": [
    "rng = default_rng(seed=10)\n",
    "path = '../data/' # relative path to data directory"
   ]
  },
  {
   "cell_type": "markdown",
   "id": "0a9cc7bf",
   "metadata": {},
   "source": [
    "# Import Data"
   ]
  },
  {
   "cell_type": "code",
   "execution_count": 3,
   "id": "6b196bd3",
   "metadata": {},
   "outputs": [
    {
     "name": "stderr",
     "output_type": "stream",
     "text": [
      "Mapping files: 100%|██████████| 3/3 [00:00<00:00,  6.04it/s]\n"
     ]
    }
   ],
   "source": [
    "bim, fam, bed = read_plink(path + 'CEDAR/CEDAR')"
   ]
  },
  {
   "cell_type": "markdown",
   "id": "9b616fe6",
   "metadata": {},
   "source": [
    "# Data Exploration and Pre-Processing"
   ]
  },
  {
   "cell_type": "code",
   "execution_count": 4,
   "id": "b2ca3aca",
   "metadata": {},
   "outputs": [
    {
     "data": {
      "text/html": [
       "<table>\n",
       "    <tr>\n",
       "        <td>\n",
       "            <table>\n",
       "                <thead>\n",
       "                    <tr>\n",
       "                        <td> </td>\n",
       "                        <th> Array </th>\n",
       "                        <th> Chunk </th>\n",
       "                    </tr>\n",
       "                </thead>\n",
       "                <tbody>\n",
       "                    \n",
       "                    <tr>\n",
       "                        <th> Bytes </th>\n",
       "                        <td> 897.33 MiB </td>\n",
       "                        <td> 1.26 MiB </td>\n",
       "                    </tr>\n",
       "                    \n",
       "                    <tr>\n",
       "                        <th> Shape </th>\n",
       "                        <td> (730525, 322) </td>\n",
       "                        <td> (1024, 322) </td>\n",
       "                    </tr>\n",
       "                    <tr>\n",
       "                        <th> Count </th>\n",
       "                        <td> 1431 Graph Layers </td>\n",
       "                        <td> 714 Chunks </td>\n",
       "                    </tr>\n",
       "                    <tr>\n",
       "                    <th> Type </th>\n",
       "                    <td> float32 </td>\n",
       "                    <td> numpy.ndarray </td>\n",
       "                    </tr>\n",
       "                </tbody>\n",
       "            </table>\n",
       "        </td>\n",
       "        <td>\n",
       "        <svg width=\"75\" height=\"170\" style=\"stroke:rgb(0,0,0);stroke-width:1\" >\n",
       "\n",
       "  <!-- Horizontal lines -->\n",
       "  <line x1=\"0\" y1=\"0\" x2=\"25\" y2=\"0\" style=\"stroke-width:2\" />\n",
       "  <line x1=\"0\" y1=\"6\" x2=\"25\" y2=\"6\" />\n",
       "  <line x1=\"0\" y1=\"12\" x2=\"25\" y2=\"12\" />\n",
       "  <line x1=\"0\" y1=\"18\" x2=\"25\" y2=\"18\" />\n",
       "  <line x1=\"0\" y1=\"25\" x2=\"25\" y2=\"25\" />\n",
       "  <line x1=\"0\" y1=\"31\" x2=\"25\" y2=\"31\" />\n",
       "  <line x1=\"0\" y1=\"37\" x2=\"25\" y2=\"37\" />\n",
       "  <line x1=\"0\" y1=\"44\" x2=\"25\" y2=\"44\" />\n",
       "  <line x1=\"0\" y1=\"50\" x2=\"25\" y2=\"50\" />\n",
       "  <line x1=\"0\" y1=\"56\" x2=\"25\" y2=\"56\" />\n",
       "  <line x1=\"0\" y1=\"63\" x2=\"25\" y2=\"63\" />\n",
       "  <line x1=\"0\" y1=\"69\" x2=\"25\" y2=\"69\" />\n",
       "  <line x1=\"0\" y1=\"75\" x2=\"25\" y2=\"75\" />\n",
       "  <line x1=\"0\" y1=\"82\" x2=\"25\" y2=\"82\" />\n",
       "  <line x1=\"0\" y1=\"88\" x2=\"25\" y2=\"88\" />\n",
       "  <line x1=\"0\" y1=\"94\" x2=\"25\" y2=\"94\" />\n",
       "  <line x1=\"0\" y1=\"101\" x2=\"25\" y2=\"101\" />\n",
       "  <line x1=\"0\" y1=\"107\" x2=\"25\" y2=\"107\" />\n",
       "  <line x1=\"0\" y1=\"113\" x2=\"25\" y2=\"113\" />\n",
       "  <line x1=\"0\" y1=\"120\" x2=\"25\" y2=\"120\" style=\"stroke-width:2\" />\n",
       "\n",
       "  <!-- Vertical lines -->\n",
       "  <line x1=\"0\" y1=\"0\" x2=\"0\" y2=\"120\" style=\"stroke-width:2\" />\n",
       "  <line x1=\"25\" y1=\"0\" x2=\"25\" y2=\"120\" style=\"stroke-width:2\" />\n",
       "\n",
       "  <!-- Colored Rectangle -->\n",
       "  <polygon points=\"0.0,0.0 25.412616514582485,0.0 25.412616514582485,120.0 0.0,120.0\" style=\"fill:#8B4903A0;stroke-width:0\"/>\n",
       "\n",
       "  <!-- Text -->\n",
       "  <text x=\"12.706308\" y=\"140.000000\" font-size=\"1.0rem\" font-weight=\"100\" text-anchor=\"middle\" >322</text>\n",
       "  <text x=\"45.412617\" y=\"60.000000\" font-size=\"1.0rem\" font-weight=\"100\" text-anchor=\"middle\" transform=\"rotate(-90,45.412617,60.000000)\">730525</text>\n",
       "</svg>\n",
       "        </td>\n",
       "    </tr>\n",
       "</table>"
      ],
      "text/plain": [
       "dask.array<transpose, shape=(730525, 322), dtype=float32, chunksize=(1024, 322), chunktype=numpy.ndarray>"
      ]
     },
     "execution_count": 4,
     "metadata": {},
     "output_type": "execute_result"
    }
   ],
   "source": [
    "bed # [730K SNPs x 322 ppl]"
   ]
  },
  {
   "cell_type": "code",
   "execution_count": 5,
   "id": "edfe43c4",
   "metadata": {},
   "outputs": [
    {
     "name": "stdout",
     "output_type": "stream",
     "text": [
      "(322, 2048)\n",
      "[[1. 2. 2. ... 2. 2. 2.]\n",
      " [2. 2. 2. ... 2. 2. 2.]\n",
      " [2. 2. 2. ... 2. 2. 2.]\n",
      " ...\n",
      " [2. 0. 1. ... 2. 1. 2.]\n",
      " [2. 2. 2. ... 2. 2. 2.]\n",
      " [1. 2. 2. ... 2. 1. 2.]]\n"
     ]
    }
   ],
   "source": [
    "X = bed.blocks[5:7].compute().T # [num ppl x num SNPs]\n",
    "\n",
    "print(X.shape)\n",
    "print(X)"
   ]
  },
  {
   "cell_type": "markdown",
   "id": "9a6d0721",
   "metadata": {},
   "source": [
    "#### Check and Remove NaN Values\n",
    "\n",
    "If a SNP is NaN for any invidual, remove the entire SNP for all individuals in the dataset."
   ]
  },
  {
   "cell_type": "code",
   "execution_count": 6,
   "id": "a420ea04",
   "metadata": {},
   "outputs": [
    {
     "name": "stdout",
     "output_type": "stream",
     "text": [
      "3345 NaN values in data\n",
      "819 different SNPs that contain a NaN value\n"
     ]
    }
   ],
   "source": [
    "num_nan = np.count_nonzero(np.isnan(X))\n",
    "print(num_nan, f'NaN values in data')\n",
    "\n",
    "X_snp_nan = np.isnan(X.sum(axis=0))\n",
    "num_nan_snp = np.count_nonzero(X_snp_nan)\n",
    "print(num_nan_snp, f'different SNPs that contain a NaN value')"
   ]
  },
  {
   "cell_type": "code",
   "execution_count": 7,
   "id": "28443fdb",
   "metadata": {},
   "outputs": [
    {
     "name": "stdout",
     "output_type": "stream",
     "text": [
      "(322, 1229)\n",
      "[[1. 2. 2. ... 2. 0. 2.]\n",
      " [2. 2. 2. ... 2. 2. 2.]\n",
      " [2. 2. 2. ... 2. 1. 2.]\n",
      " ...\n",
      " [2. 0. 1. ... 2. 1. 1.]\n",
      " [2. 2. 2. ... 2. 2. 2.]\n",
      " [1. 2. 2. ... 2. 1. 1.]]\n"
     ]
    }
   ],
   "source": [
    "X = X[:, ~np.any(np.isnan(X),axis=0)] # remove SNP columns w/ Nan\n",
    "\n",
    "print(X.shape)\n",
    "print(X)"
   ]
  },
  {
   "cell_type": "markdown",
   "id": "1e3ed739",
   "metadata": {},
   "source": [
    "Binary annotations, start with $1, 5, 20$ annotations. Generate from Bernoulli with $p=0.1$.  For $1, 5$ annotations, set entire weight vector to $1$. For $20$ annotations, set weight vector for $10$ elements to 0 and for the remaining $10$, set them to $1/10$. Pick each group of these 10 vectors randomly from uniform distribution."
   ]
  },
  {
   "cell_type": "markdown",
   "id": "daf2a133",
   "metadata": {},
   "source": [
    "# Generate Synthetic Data"
   ]
  },
  {
   "cell_type": "code",
   "execution_count": 13,
   "id": "892b7298",
   "metadata": {},
   "outputs": [],
   "source": [
    "# default values\n",
    "num_casual_snp = 10\n",
    "num_ppl, num_snp = X.shape # [322 ppl x 1229 SNPs]\n",
    "num_annotations = 5"
   ]
  },
  {
   "cell_type": "code",
   "execution_count": 14,
   "id": "d79b18a6",
   "metadata": {},
   "outputs": [],
   "source": [
    "# sample functional annotations [num_snp x num_annotations]\n",
    "A = rng.binomial(n=1, p=0.1, size=(num_snp, num_annotations)) # binomial with n=1 is bernoulli\n",
    "\n",
    "# generate weight vector w [num_snp x 1]\n",
    "w = np.ones(num_annotations)\n",
    "\n",
    "# generate prior causality vector pi [num_snp x 1]\n",
    "pi = softmax(A @ w)"
   ]
  },
  {
   "cell_type": "code",
   "execution_count": 15,
   "id": "00802cc6",
   "metadata": {},
   "outputs": [],
   "source": [
    "# sample casual SNPs [num_casual_snp x 1] according to pi\n",
    "causal_one_hot = rng.multinomial(n=1, pvals=pi, size=num_casual_snp) # multinomial with n=1 is categorical\n",
    "causal_idx = causal_one_hot.argmax(axis=-1) # convert from one-hot encoding to arr of idicies with causal SNPs\n",
    "\n",
    "# sample effect size [num_snp x 1]\n",
    "beta = np.zeros(num_snp)\n",
    "beta[causal_idx] = rng.multivariate_normal(mean=np.zeros(num_casual_snp), \n",
    "                                           cov=np.eye(num_casual_snp))\n",
    "\n",
    "# sample error [num_ppl x 1]\n",
    "eps = rng.multivariate_normal(mean=np.zeros(num_ppl), \n",
    "                              cov=np.eye(num_ppl) * 0.1)\n",
    "\n",
    "# generate phenotype [num_ppl,]\n",
    "y = X @ beta + eps"
   ]
  },
  {
   "cell_type": "markdown",
   "id": "113b0069",
   "metadata": {},
   "source": [
    "## Saving Data"
   ]
  },
  {
   "cell_type": "code",
   "execution_count": 19,
   "id": "e0f48ee5",
   "metadata": {},
   "outputs": [],
   "source": [
    "np.save(path + 'genotype.npy', X)\n",
    "np.save(path + 'simulated_phenotype.npy', y)\n",
    "np.save(path + 'annotation_weight_vector.npy', w)"
   ]
  },
  {
   "cell_type": "code",
   "execution_count": 20,
   "id": "b7e41528",
   "metadata": {},
   "outputs": [],
   "source": [
    "# binary classification for SNP causality\n",
    "# 1 indicates SNP is causal, 0 indicates SNP is not\n",
    "snp_classification = np.zeros(num_snp)\n",
    "snp_classification[causal_idx] = 1\n",
    "\n",
    "np.save(path + 'snp_classification.npy', snp_classification)"
   ]
  }
 ],
 "metadata": {
  "kernelspec": {
   "display_name": "Python 3.10.6 ('fine-mapping')",
   "language": "python",
   "name": "python3"
  },
  "language_info": {
   "codemirror_mode": {
    "name": "ipython",
    "version": 3
   },
   "file_extension": ".py",
   "mimetype": "text/x-python",
   "name": "python",
   "nbconvert_exporter": "python",
   "pygments_lexer": "ipython3",
   "version": "3.10.6"
  },
  "vscode": {
   "interpreter": {
    "hash": "b7b8f5311c45006eb37b120b462539756cb37cad3b6f79cd2112c33baed2fe23"
   }
  }
 },
 "nbformat": 4,
 "nbformat_minor": 5
}
