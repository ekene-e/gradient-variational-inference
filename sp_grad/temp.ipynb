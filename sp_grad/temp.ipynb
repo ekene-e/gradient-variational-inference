{
 "cells": [
  {
   "cell_type": "markdown",
   "id": "6d59383c",
   "metadata": {},
   "source": [
    "## Imports Packages and Set Defaults"
   ]
  },
  {
   "cell_type": "code",
   "execution_count": 32,
   "id": "5ed462e9",
   "metadata": {},
   "outputs": [],
   "source": [
    "from pandas_plink import read_plink1_bin, read_plink\n",
    "import pandas as pd\n",
    "import numpy as np\n",
    "from numpy.random import default_rng"
   ]
  },
  {
   "cell_type": "code",
   "execution_count": 36,
   "id": "3a88f143",
   "metadata": {},
   "outputs": [],
   "source": [
    "rng = default_rng(seed=10)"
   ]
  },
  {
   "cell_type": "markdown",
   "id": "0a9cc7bf",
   "metadata": {},
   "source": [
    "## Import Data"
   ]
  },
  {
   "cell_type": "code",
   "execution_count": 3,
   "id": "6b196bd3",
   "metadata": {},
   "outputs": [
    {
     "name": "stderr",
     "output_type": "stream",
     "text": [
      "Mapping files: 100%|██████████| 3/3 [00:01<00:00,  2.02it/s]\n"
     ]
    }
   ],
   "source": [
    "bim, fam, bed = read_plink('sim/CEDAR')"
   ]
  },
  {
   "cell_type": "markdown",
   "id": "9b616fe6",
   "metadata": {},
   "source": [
    "## Data Exploration and Pre-Processing"
   ]
  },
  {
   "cell_type": "code",
   "execution_count": 105,
   "id": "b2ca3aca",
   "metadata": {},
   "outputs": [
    {
     "data": {
      "text/html": [
       "<table>\n",
       "<tr>\n",
       "<td>\n",
       "<table>\n",
       "  <thead>\n",
       "    <tr><td> </td><th> Array </th><th> Chunk </th></tr>\n",
       "  </thead>\n",
       "  <tbody>\n",
       "    <tr><th> Bytes </th><td> 940.92 MB </td> <td> 1.32 MB </td></tr>\n",
       "    <tr><th> Shape </th><td> (730525, 322) </td> <td> (1024, 322) </td></tr>\n",
       "    <tr><th> Count </th><td> 3570 Tasks </td><td> 714 Chunks </td></tr>\n",
       "    <tr><th> Type </th><td> float32 </td><td> numpy.ndarray </td></tr>\n",
       "  </tbody>\n",
       "</table>\n",
       "</td>\n",
       "<td>\n",
       "<svg width=\"75\" height=\"170\" style=\"stroke:rgb(0,0,0);stroke-width:1\" >\n",
       "\n",
       "  <!-- Horizontal lines -->\n",
       "  <line x1=\"0\" y1=\"0\" x2=\"25\" y2=\"0\" style=\"stroke-width:2\" />\n",
       "  <line x1=\"0\" y1=\"6\" x2=\"25\" y2=\"6\" />\n",
       "  <line x1=\"0\" y1=\"12\" x2=\"25\" y2=\"12\" />\n",
       "  <line x1=\"0\" y1=\"18\" x2=\"25\" y2=\"18\" />\n",
       "  <line x1=\"0\" y1=\"25\" x2=\"25\" y2=\"25\" />\n",
       "  <line x1=\"0\" y1=\"31\" x2=\"25\" y2=\"31\" />\n",
       "  <line x1=\"0\" y1=\"37\" x2=\"25\" y2=\"37\" />\n",
       "  <line x1=\"0\" y1=\"44\" x2=\"25\" y2=\"44\" />\n",
       "  <line x1=\"0\" y1=\"50\" x2=\"25\" y2=\"50\" />\n",
       "  <line x1=\"0\" y1=\"56\" x2=\"25\" y2=\"56\" />\n",
       "  <line x1=\"0\" y1=\"63\" x2=\"25\" y2=\"63\" />\n",
       "  <line x1=\"0\" y1=\"69\" x2=\"25\" y2=\"69\" />\n",
       "  <line x1=\"0\" y1=\"75\" x2=\"25\" y2=\"75\" />\n",
       "  <line x1=\"0\" y1=\"82\" x2=\"25\" y2=\"82\" />\n",
       "  <line x1=\"0\" y1=\"88\" x2=\"25\" y2=\"88\" />\n",
       "  <line x1=\"0\" y1=\"94\" x2=\"25\" y2=\"94\" />\n",
       "  <line x1=\"0\" y1=\"101\" x2=\"25\" y2=\"101\" />\n",
       "  <line x1=\"0\" y1=\"107\" x2=\"25\" y2=\"107\" />\n",
       "  <line x1=\"0\" y1=\"113\" x2=\"25\" y2=\"113\" />\n",
       "  <line x1=\"0\" y1=\"120\" x2=\"25\" y2=\"120\" style=\"stroke-width:2\" />\n",
       "\n",
       "  <!-- Vertical lines -->\n",
       "  <line x1=\"0\" y1=\"0\" x2=\"0\" y2=\"120\" style=\"stroke-width:2\" />\n",
       "  <line x1=\"25\" y1=\"0\" x2=\"25\" y2=\"120\" style=\"stroke-width:2\" />\n",
       "\n",
       "  <!-- Colored Rectangle -->\n",
       "  <polygon points=\"0.0,0.0 25.412616514582485,0.0 25.412616514582485,120.0 0.0,120.0\" style=\"fill:#8B4903A0;stroke-width:0\"/>\n",
       "\n",
       "  <!-- Text -->\n",
       "  <text x=\"12.706308\" y=\"140.000000\" font-size=\"1.0rem\" font-weight=\"100\" text-anchor=\"middle\" >322</text>\n",
       "  <text x=\"45.412617\" y=\"60.000000\" font-size=\"1.0rem\" font-weight=\"100\" text-anchor=\"middle\" transform=\"rotate(-90,45.412617,60.000000)\">730525</text>\n",
       "</svg>\n",
       "</td>\n",
       "</tr>\n",
       "</table>"
      ],
      "text/plain": [
       "dask.array<transpose, shape=(730525, 322), dtype=float32, chunksize=(1024, 322), chunktype=numpy.ndarray>"
      ]
     },
     "execution_count": 105,
     "metadata": {},
     "output_type": "execute_result"
    }
   ],
   "source": [
    "bed # 730K SNPs x 322 ppl"
   ]
  },
  {
   "cell_type": "code",
   "execution_count": 157,
   "id": "edfe43c4",
   "metadata": {},
   "outputs": [
    {
     "name": "stdout",
     "output_type": "stream",
     "text": [
      "(322, 2048)\n",
      "[[1. 2. 2. ... 2. 2. 2.]\n",
      " [2. 2. 2. ... 2. 2. 2.]\n",
      " [2. 2. 2. ... 2. 2. 2.]\n",
      " ...\n",
      " [2. 0. 1. ... 2. 1. 2.]\n",
      " [2. 2. 2. ... 2. 2. 2.]\n",
      " [1. 2. 2. ... 2. 1. 2.]]\n"
     ]
    }
   ],
   "source": [
    "X = bed.blocks[5:7].compute().T # (num ppl x num SNPs)\n",
    "\n",
    "print(X.shape)\n",
    "print(X)"
   ]
  },
  {
   "cell_type": "markdown",
   "id": "9a6d0721",
   "metadata": {},
   "source": [
    "##### Check and Remove NaN Values\n",
    "\n",
    "If a SNP is NaN for any invidual, remove the entire SNP for all individuals in the dataset."
   ]
  },
  {
   "cell_type": "code",
   "execution_count": 158,
   "id": "a420ea04",
   "metadata": {},
   "outputs": [
    {
     "name": "stdout",
     "output_type": "stream",
     "text": [
      "3345 NaN values in data\n",
      "819 different SNPs that contain a NaN value\n"
     ]
    }
   ],
   "source": [
    "num_nan = np.count_nonzero(np.isnan(X))\n",
    "print(num_nan, f'NaN values in data')\n",
    "\n",
    "X_snp_nan = np.isnan(X.sum(axis=0))\n",
    "num_nan_snp = np.count_nonzero(X_snp_nan)\n",
    "print(num_nan_snp, f'different SNPs that contain a NaN value')"
   ]
  },
  {
   "cell_type": "code",
   "execution_count": 159,
   "id": "28443fdb",
   "metadata": {},
   "outputs": [
    {
     "name": "stdout",
     "output_type": "stream",
     "text": [
      "(322, 1229)\n",
      "[[1. 2. 2. ... 2. 0. 2.]\n",
      " [2. 2. 2. ... 2. 2. 2.]\n",
      " [2. 2. 2. ... 2. 1. 2.]\n",
      " ...\n",
      " [2. 0. 1. ... 2. 1. 1.]\n",
      " [2. 2. 2. ... 2. 2. 2.]\n",
      " [1. 2. 2. ... 2. 1. 1.]]\n"
     ]
    }
   ],
   "source": [
    "X = X[:, ~np.any(np.isnan(X),axis=0)] # remove columns w/ Nan\n",
    "\n",
    "print(X.shape)\n",
    "print(X)"
   ]
  },
  {
   "cell_type": "markdown",
   "id": "daf2a133",
   "metadata": {},
   "source": [
    "## Generate Synthetic Data"
   ]
  },
  {
   "cell_type": "code",
   "execution_count": 174,
   "id": "892b7298",
   "metadata": {},
   "outputs": [],
   "source": [
    "# default values\n",
    "num_casual_snp = 10\n",
    "num_ppl, num_snp = X.shape # 322 ppl x 1229 SNPs"
   ]
  },
  {
   "cell_type": "code",
   "execution_count": 173,
   "id": "00802cc6",
   "metadata": {},
   "outputs": [],
   "source": [
    "# sample casual SNPs \n",
    "casual_idx = rng.integers(low=0, high=num_snp, \n",
    "                          size=num_casual_snp, dtype=np.int32)\n",
    "\n",
    "# sample effect size (num_snp x 1)\n",
    "beta = np.zeros(num_snp)\n",
    "beta[casual_idx] = rng.multivariate_normal(mean=np.zeros(num_casual_snp), \n",
    "                                           cov=np.eye(num_casual_snp))\n",
    "\n",
    "# sample error (num_ppl x 1)\n",
    "eps = rng.multivariate_normal(mean=np.zeros(num_ppl), \n",
    "                              cov=np.eye(num_ppl))\n",
    "\n",
    "# generate phenotype (num_ppl x 1)\n",
    "y = X @ beta + eps"
   ]
  }
 ],
 "metadata": {
  "kernelspec": {
   "display_name": "Python 3",
   "language": "python",
   "name": "python3"
  },
  "language_info": {
   "codemirror_mode": {
    "name": "ipython",
    "version": 3
   },
   "file_extension": ".py",
   "mimetype": "text/x-python",
   "name": "python",
   "nbconvert_exporter": "python",
   "pygments_lexer": "ipython3",
   "version": "3.7.11"
  }
 },
 "nbformat": 4,
 "nbformat_minor": 5
}
